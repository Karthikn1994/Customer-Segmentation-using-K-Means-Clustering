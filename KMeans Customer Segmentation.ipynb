{
 "cells": [
  {
   "cell_type": "markdown",
   "id": "9240a8f4",
   "metadata": {},
   "source": [
    "# 🧠 Customer Segmentation using K-Means Clustering\n",
    "\n",
    "This notebook demonstrates how to perform **customer segmentation** for an online retail dataset using **K-Means clustering**.\n",
    "\n",
    "Steps:\n",
    "1. Load and explore the dataset  \n",
    "2. Preprocess and standardize data  \n",
    "3. Use the **Elbow Method** to find the optimal number of clusters  \n",
    "4. Run **K-Means clustering**  \n",
    "5. Visualize and analyze cluster results  \n",
    "6. Summarize insights for business use\n"
   ]
  },
  {
   "cell_type": "code",
   "execution_count": null,
   "id": "b15674c1",
   "metadata": {},
   "outputs": [],
   "source": [
    "# Import libraries\n",
    "import pandas as pd\n",
    "import numpy as np\n",
    "import matplotlib.pyplot as plt\n",
    "from sklearn.preprocessing import StandardScaler\n",
    "from sklearn.cluster import KMeans\n",
    "from sklearn.decomposition import PCA\n",
    "import seaborn as sns\n"
   ]
  },
  {
   "cell_type": "code",
   "execution_count": null,
   "id": "651b7841",
   "metadata": {},
   "outputs": [],
   "source": [
    "# Load your dataset\n",
    "# Replace 'online_retail.csv' with your dataset file\n",
    "data = pd.read_csv('online_retail.csv')\n",
    "data.head()\n"
   ]
  },
  {
   "cell_type": "code",
   "execution_count": null,
   "id": "71353f6a",
   "metadata": {},
   "outputs": [],
   "source": [
    "# Preprocessing - keep only numeric columns, handle missing values, and standardize\n",
    "numeric_df = data.select_dtypes(include=[np.number]).fillna(data.median())\n",
    "scaler = StandardScaler()\n",
    "X = scaler.fit_transform(numeric_df)\n",
    "print(\"Shape after scaling:\", X.shape)\n"
   ]
  },
  {
   "cell_type": "code",
   "execution_count": null,
   "id": "90d1c214",
   "metadata": {},
   "outputs": [],
   "source": [
    "# Elbow Method to determine optimal K\n",
    "wcss = []\n",
    "K = range(1, 11)\n",
    "for k in K:\n",
    "    kmeans = KMeans(n_clusters=k, random_state=42, n_init=10)\n",
    "    kmeans.fit(X)\n",
    "    wcss.append(kmeans.inertia_)\n",
    "\n",
    "plt.figure(figsize=(6,4))\n",
    "plt.plot(K, wcss, marker='o')\n",
    "plt.title('Elbow Method for Optimal k')\n",
    "plt.xlabel('Number of clusters (k)')\n",
    "plt.ylabel('WCSS')\n",
    "plt.grid(True)\n",
    "plt.show()\n"
   ]
  },
  {
   "cell_type": "code",
   "execution_count": null,
   "id": "08fd450c",
   "metadata": {},
   "outputs": [],
   "source": [
    "# Choose K (based on elbow) and run K-Means\n",
    "optimal_k = 4  # change after reviewing elbow plot\n",
    "kmeans = KMeans(n_clusters=optimal_k, random_state=42, n_init=20)\n",
    "labels = kmeans.fit_predict(X)\n",
    "\n",
    "# Add cluster labels to the original data\n",
    "data['Cluster'] = labels\n",
    "data.head()\n"
   ]
  },
  {
   "cell_type": "code",
   "execution_count": null,
   "id": "b4d9d77e",
   "metadata": {},
   "outputs": [],
   "source": [
    "# PCA Visualization of clusters\n",
    "pca = PCA(n_components=2, random_state=42)\n",
    "X_pca = pca.fit_transform(X)\n",
    "\n",
    "plt.figure(figsize=(7,5))\n",
    "sns.scatterplot(x=X_pca[:,0], y=X_pca[:,1], hue=labels, palette='Set2', s=50)\n",
    "plt.title('Customer Segments (PCA 2D projection)')\n",
    "plt.xlabel('PC1')\n",
    "plt.ylabel('PC2')\n",
    "plt.legend(title='Cluster')\n",
    "plt.show()\n"
   ]
  },
  {
   "cell_type": "code",
   "execution_count": null,
   "id": "c11bd1ee",
   "metadata": {},
   "outputs": [],
   "source": [
    "# Cluster Analysis - compute mean statistics per cluster\n",
    "cluster_summary = data.groupby('Cluster').mean(numeric_only=True)\n",
    "cluster_summary\n"
   ]
  },
  {
   "cell_type": "code",
   "execution_count": null,
   "id": "c432f61a",
   "metadata": {},
   "outputs": [],
   "source": [
    "# Example business interpretation section\n",
    "print(\"Example Interpretation:\")\n",
    "print(\"- Cluster 0: High-value, infrequent buyers — target with loyalty offers\")\n",
    "print(\"- Cluster 1: Frequent bargain shoppers — increase average order value\")\n",
    "print(\"- Cluster 2: One-time buyers — run reactivation campaigns\")\n",
    "print(\"- Cluster 3: New customers — focus on onboarding experience\")\n"
   ]
  }
 ],
 "metadata": {},
 "nbformat": 4,
 "nbformat_minor": 5
}
